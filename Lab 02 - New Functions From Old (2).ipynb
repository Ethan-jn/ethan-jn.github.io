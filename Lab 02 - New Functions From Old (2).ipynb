{
 "cells": [
  {
   "cell_type": "markdown",
   "metadata": {
    "deletable": false,
    "editable": false
   },
   "source": [
    " <center> <h1> Lab 02 - New Functions From Old </h1> </center> \n",
    " \n",
    "## Overview\n",
    "\n",
    "In this lab, we will use SageMath to create functions and then use these functions to create new funcitons. Also, we will learn how to simplify and expand expressions and how to evaluate them at given values.\n",
    "\n",
    "### Important SageMath Commands Introduced in this Lab\n",
    "\n",
    "\\begin{array}{|l|l|l|}\n",
    "\\hline \n",
    "\\hfill \\hspace{.7in} \\textbf{Command} \\hspace{.7in} \\hfill & \\hfill \\hspace{.7in} \\textbf{Description} \\hspace{.7in} \\hfill & \\hfill \\hspace{.7in} \\textbf{Example} \\hspace{.7in} \\hfill \\\\\n",
    "\\hline\n",
    "  \\color{green}{\\text{def}} \\textbf{ f(x):} & \\text{Creates the function $f(x) = $ expression} & \\color{green}{\\text{def}} \\textbf{ f(x):}\\\\\n",
    "  \\ \\ \\ \\ \\ \\ \\color{green}{\\text{return}} \\textit{ expression} &  & \\ \\ \\ \\ \\ \\ \\color{green}{\\text{return}} \\ x^2\\\\\n",
    "  \\hline\n",
    "  (\\textit{expression})\\textbf{.full_simplify()} & \\text{Simplifies the function or expression} & (x*(1 + 1/x))\\textbf{.full_simplify()} \\\\\n",
    "  \\hline\n",
    "  \\textbf{expand}(\\textit{expression}) & \\text{Expands the function or expression} & \\textbf{expand}(x-(x-1)^8) \\\\\n",
    "  \\hline\n",
    "  \\textbf{var}(`\\textit{letter'}) & \\text{Makes the letter or word a variable} & h = \\textbf{var}(`h\\text{'}) \\\\\n",
    "  \\hline\n",
    "  (\\textit{expression})\\textbf{(h=a)} & \\text{Substitutes the number $a$ in for $h$ in the expression} & ((x-1)^2+1)\\textbf{(x=1)} \\\\\n",
    "  \\hline\n",
    "\\end{array}\n",
    "\n",
    "### Related Course Material\n",
    "    Section 1.2"
   ]
  },
  {
   "cell_type": "markdown",
   "metadata": {
    "deletable": false,
    "editable": false
   },
   "source": [
    "## Example 1\n",
    "Suppose $f(x)$ and $g(x)$ are functions. There are countless ways to combine these functions to create a new function. Some basic examples of this are $f(x) + g(x)$, $f(x) - g(x)$, $f(x)g(x)$, $\\dfrac{f(x)}{g(x)}$ and $f(g(x))$.\n",
    "\n",
    "We first use SageMath to set $f(x) = 2\\sqrt{x-1}$ and $g(x) = \\sqrt{x-1}$. "
   ]
  },
  {
   "cell_type": "code",
   "execution_count": 1,
   "metadata": {},
   "outputs": [
    {
     "data": {
      "text/html": [
       "<html><script type=\"math/tex; mode=display\">\\newcommand{\\Bold}[1]{\\mathbf{#1}}2 \\, \\sqrt{x - 1}</script></html>"
      ],
      "text/plain": [
       "2*sqrt(x - 1)"
      ]
     },
     "metadata": {},
     "output_type": "display_data"
    },
    {
     "data": {
      "text/html": [
       "<html><script type=\"math/tex; mode=display\">\\newcommand{\\Bold}[1]{\\mathbf{#1}}\\sqrt{x - 1}</script></html>"
      ],
      "text/plain": [
       "sqrt(x - 1)"
      ]
     },
     "metadata": {},
     "output_type": "display_data"
    }
   ],
   "source": [
    "def f(x):\n",
    "    return 2*sqrt(x-1)\n",
    "def g(x):\n",
    "    return sqrt(x-1)\n",
    "show(f(x))\n",
    "show(g(x))"
   ]
  },
  {
   "cell_type": "markdown",
   "metadata": {
    "deletable": false,
    "editable": false
   },
   "source": [
    "Now, we will use $f(x)$ and $g(x)$ to create the five new functions $f(x) + g(x)$, $f(x) - g(x)$, $f(x)g(x)$, $\\dfrac{f(x)}{g(x)}$ and $f(g(x))$."
   ]
  },
  {
   "cell_type": "code",
   "execution_count": 2,
   "metadata": {},
   "outputs": [
    {
     "data": {
      "text/html": [
       "<html><script type=\"math/tex; mode=display\">\\newcommand{\\Bold}[1]{\\mathbf{#1}}3 \\, \\sqrt{x - 1}</script></html>"
      ],
      "text/plain": [
       "3*sqrt(x - 1)"
      ]
     },
     "metadata": {},
     "output_type": "display_data"
    }
   ],
   "source": [
    "show(f(x) + g(x))"
   ]
  },
  {
   "cell_type": "code",
   "execution_count": 3,
   "metadata": {},
   "outputs": [
    {
     "data": {
      "text/html": [
       "<html><script type=\"math/tex; mode=display\">\\newcommand{\\Bold}[1]{\\mathbf{#1}}\\sqrt{x - 1}</script></html>"
      ],
      "text/plain": [
       "sqrt(x - 1)"
      ]
     },
     "metadata": {},
     "output_type": "display_data"
    }
   ],
   "source": [
    "show(f(x) - g(x))"
   ]
  },
  {
   "cell_type": "code",
   "execution_count": 4,
   "metadata": {},
   "outputs": [
    {
     "data": {
      "text/html": [
       "<html><script type=\"math/tex; mode=display\">\\newcommand{\\Bold}[1]{\\mathbf{#1}}2 \\, x - 2</script></html>"
      ],
      "text/plain": [
       "2*x - 2"
      ]
     },
     "metadata": {},
     "output_type": "display_data"
    }
   ],
   "source": [
    "show(f(x)*g(x))"
   ]
  },
  {
   "cell_type": "code",
   "execution_count": 5,
   "metadata": {},
   "outputs": [
    {
     "data": {
      "text/html": [
       "<html><script type=\"math/tex; mode=display\">\\newcommand{\\Bold}[1]{\\mathbf{#1}}2</script></html>"
      ],
      "text/plain": [
       "2"
      ]
     },
     "metadata": {},
     "output_type": "display_data"
    }
   ],
   "source": [
    "show(f(x)/g(x))"
   ]
  },
  {
   "cell_type": "code",
   "execution_count": 6,
   "metadata": {},
   "outputs": [
    {
     "data": {
      "text/html": [
       "<html><script type=\"math/tex; mode=display\">\\newcommand{\\Bold}[1]{\\mathbf{#1}}2 \\, \\sqrt{\\sqrt{x - 1} - 1}</script></html>"
      ],
      "text/plain": [
       "2*sqrt(sqrt(x - 1) - 1)"
      ]
     },
     "metadata": {},
     "output_type": "display_data"
    }
   ],
   "source": [
    "show(f(g(x)))"
   ]
  },
  {
   "cell_type": "markdown",
   "metadata": {
    "deletable": false,
    "editable": false
   },
   "source": [
    "Observe how SageMath automatically simplified each output. Unforunately, this is not always the case. Consider the expression $x\\left(1 + \\frac{1}{x}\\right)$. We know that this expression can easily simplify to $x + 1$. Type this expression below and see what SageMath returns."
   ]
  },
  {
   "cell_type": "code",
   "execution_count": 13,
   "metadata": {},
   "outputs": [
    {
     "data": {
      "text/html": [
       "<html><script type=\"math/tex; mode=display\">\\newcommand{\\Bold}[1]{\\mathbf{#1}}x {\\left(\\frac{1}{x} + 1\\right)}</script></html>"
      ],
      "text/plain": [
       "x*(1/x + 1)"
      ]
     },
     "metadata": {},
     "output_type": "display_data"
    }
   ],
   "source": [
    "def f(x):\n",
    "    return (x*(1+(1/x)))\n",
    "show(f(x))"
   ]
  },
  {
   "cell_type": "markdown",
   "metadata": {
    "deletable": false,
    "editable": false
   },
   "source": [
    "SageMath did not sipmlify the expression, but instead returned exactly what we typed in. We can make SageMath simplify the expression as much as possible by using the command $\\textbf{.full_simplify()}$."
   ]
  },
  {
   "cell_type": "code",
   "execution_count": 12,
   "metadata": {},
   "outputs": [
    {
     "data": {
      "text/plain": [
       "x + 1"
      ]
     },
     "execution_count": 12,
     "metadata": {},
     "output_type": "execute_result"
    }
   ],
   "source": [
    "(x*(1+1/x)).full_simplify()"
   ]
  },
  {
   "cell_type": "markdown",
   "metadata": {
    "deletable": false,
    "editable": false
   },
   "source": [
    "## Example 2\n",
    "\n",
    "Repeat Example 1 using the functions $f(x) = 1 + \\frac{x}{x+1}$ and $g(x) = 2 - \\frac{1}{x}$. Use the command $\\textbf{.full_simplify()}$ to fully simplify each expression."
   ]
  },
  {
   "cell_type": "code",
   "execution_count": 51,
   "metadata": {},
   "outputs": [
    {
     "data": {
      "text/plain": [
       "(4*x^2 + 2*x - 1)/(x^2 + x)"
      ]
     },
     "execution_count": 51,
     "metadata": {},
     "output_type": "execute_result"
    }
   ],
   "source": [
    "def f(x):\n",
    "    return 1+(x/(x+1))\n",
    "def g(x):\n",
    "    return 2-(1/x)\n",
    "(f(x)+g(x)).full_simplify()"
   ]
  },
  {
   "cell_type": "code",
   "execution_count": 52,
   "metadata": {},
   "outputs": [
    {
     "data": {
      "text/plain": [
       "1/(x^2 + x)"
      ]
     },
     "execution_count": 52,
     "metadata": {},
     "output_type": "execute_result"
    }
   ],
   "source": [
    "(f(x)-g(x)).full_simplify()"
   ]
  },
  {
   "cell_type": "code",
   "execution_count": 53,
   "metadata": {},
   "outputs": [
    {
     "data": {
      "text/plain": [
       "(4*x^2 - 1)/(x^2 + x)"
      ]
     },
     "execution_count": 53,
     "metadata": {},
     "output_type": "execute_result"
    }
   ],
   "source": [
    "(f(x)*g(x)).full_simplify()"
   ]
  },
  {
   "cell_type": "code",
   "execution_count": null,
   "metadata": {},
   "outputs": [],
   "source": []
  },
  {
   "cell_type": "code",
   "execution_count": null,
   "metadata": {},
   "outputs": [],
   "source": []
  },
  {
   "cell_type": "code",
   "execution_count": null,
   "metadata": {},
   "outputs": [],
   "source": []
  },
  {
   "cell_type": "markdown",
   "metadata": {
    "deletable": false,
    "editable": false
   },
   "source": [
    "## Example 3\n",
    "\n",
    "Now, set $f(x) = x^2 + 1$. Find and simplify the functions $f(5x+2), 3f(1/x),$ and $f(f(f(x)))$."
   ]
  },
  {
   "cell_type": "code",
   "execution_count": 28,
   "metadata": {},
   "outputs": [],
   "source": [
    "def f(x):\n",
    "    return x^2+1"
   ]
  },
  {
   "cell_type": "code",
   "execution_count": 29,
   "metadata": {},
   "outputs": [
    {
     "data": {
      "text/html": [
       "<html><script type=\"math/tex; mode=display\">\\newcommand{\\Bold}[1]{\\mathbf{#1}}{\\left(5 \\, x + 2\\right)}^{2} + 1</script></html>"
      ],
      "text/plain": [
       "(5*x + 2)^2 + 1"
      ]
     },
     "metadata": {},
     "output_type": "display_data"
    }
   ],
   "source": [
    "show (f(5*x+2))"
   ]
  },
  {
   "cell_type": "code",
   "execution_count": 30,
   "metadata": {},
   "outputs": [
    {
     "data": {
      "text/plain": [
       "25*x^2 + 20*x + 5"
      ]
     },
     "execution_count": 30,
     "metadata": {},
     "output_type": "execute_result"
    }
   ],
   "source": [
    "(f(5*x+2)).full_simplify()"
   ]
  },
  {
   "cell_type": "code",
   "execution_count": 31,
   "metadata": {},
   "outputs": [
    {
     "data": {
      "text/html": [
       "<html><script type=\"math/tex; mode=display\">\\newcommand{\\Bold}[1]{\\mathbf{#1}}{\\left({\\left(x^{2} + 1\\right)}^{2} + 1\\right)}^{2} + 1</script></html>"
      ],
      "text/plain": [
       "((x^2 + 1)^2 + 1)^2 + 1"
      ]
     },
     "metadata": {},
     "output_type": "display_data"
    }
   ],
   "source": [
    "show (f(f(f(x))))"
   ]
  },
  {
   "cell_type": "code",
   "execution_count": 32,
   "metadata": {},
   "outputs": [
    {
     "data": {
      "text/plain": [
       "x^8 + 4*x^6 + 8*x^4 + 8*x^2 + 5"
      ]
     },
     "execution_count": 32,
     "metadata": {},
     "output_type": "execute_result"
    }
   ],
   "source": [
    "(f(f(f(x)))).full_simplify()"
   ]
  },
  {
   "cell_type": "markdown",
   "metadata": {
    "deletable": false,
    "editable": false
   },
   "source": [
    "Note that both $f(5x+2)$ and $f(f(f(x)))$ are polynomials, but they are written in factored or compact form. If we want to expand the polynomial, we can use the $\\textbf{.full_simplify()}$ command from earlier, or we could use the $\\textbf{expand}(\\textit{expression})$ command."
   ]
  },
  {
   "cell_type": "code",
   "execution_count": null,
   "metadata": {},
   "outputs": [],
   "source": [
    "f(5*x+2).full_simplify()"
   ]
  },
  {
   "cell_type": "code",
   "execution_count": null,
   "metadata": {},
   "outputs": [],
   "source": [
    "expand(f(5*x+2))"
   ]
  },
  {
   "cell_type": "markdown",
   "metadata": {
    "deletable": false,
    "editable": false
   },
   "source": [
    "Use both of these commands to expand $f(f(f(x)))$ and see if they give the same result."
   ]
  },
  {
   "cell_type": "code",
   "execution_count": null,
   "metadata": {},
   "outputs": [],
   "source": []
  },
  {
   "cell_type": "code",
   "execution_count": null,
   "metadata": {},
   "outputs": [],
   "source": []
  },
  {
   "cell_type": "markdown",
   "metadata": {
    "deletable": false,
    "editable": false
   },
   "source": [
    "## Example 4\n",
    "\n",
    "Recall that the difference quotient of a function is the expression $\\dfrac{f(x+h) - f(x)}{h}$. We will use SageMath to simplify this expression for the function $f(x) = 5x^3 + 2x + 1$. First, create the function $f(x)$ below."
   ]
  },
  {
   "cell_type": "code",
   "execution_count": 33,
   "metadata": {},
   "outputs": [],
   "source": [
    "def f(x):\n",
    "    return 5*x^3+2*x+1"
   ]
  },
  {
   "cell_type": "markdown",
   "metadata": {
    "deletable": false,
    "editable": false
   },
   "source": [
    "In order for SageMath to simplify the difference quotient, we need to tell SageMath that $h$ is also a variable like $x$. We do this by using the $\\textbf{var}(`letter\\textit{'})$ command."
   ]
  },
  {
   "cell_type": "code",
   "execution_count": 34,
   "metadata": {},
   "outputs": [],
   "source": [
    "h = var('h')"
   ]
  },
  {
   "cell_type": "markdown",
   "metadata": {
    "deletable": false,
    "editable": false
   },
   "source": [
    "Now, SageMath will treat $h$ like a variable. Below, simplify the difference quotient of $f(x)$ and assign this expression to the name DiffQuot. Once simplified, the expressions should be a polynomial."
   ]
  },
  {
   "cell_type": "code",
   "execution_count": 35,
   "metadata": {},
   "outputs": [
    {
     "data": {
      "text/plain": [
       "(5*(h + x)^3 - 5*x^3 + 2*h)/h"
      ]
     },
     "execution_count": 35,
     "metadata": {},
     "output_type": "execute_result"
    }
   ],
   "source": [
    "DiffQuot = (f(x+h)-f(x))/h\n",
    "DiffQuot"
   ]
  },
  {
   "cell_type": "markdown",
   "metadata": {
    "deletable": false,
    "editable": false
   },
   "source": [
    "Note that this expression is not completely simplified. Again, we can use the $\\textbf{.full_simplify()}$ command to fully simplify the difference quotient."
   ]
  },
  {
   "cell_type": "code",
   "execution_count": 36,
   "metadata": {},
   "outputs": [
    {
     "data": {
      "text/plain": [
       "5*h^2 + 15*h*x + 15*x^2 + 2"
      ]
     },
     "execution_count": 36,
     "metadata": {},
     "output_type": "execute_result"
    }
   ],
   "source": [
    "DiffQuot = DiffQuot.full_simplify()\n",
    "DiffQuot"
   ]
  },
  {
   "cell_type": "markdown",
   "metadata": {
    "deletable": false,
    "editable": false
   },
   "source": [
    "Now, the difference quotient is fully simplifed. Suppose we wish to evaluate this new expression at $h=0$. We can do this by appending $\\textbf{(h=0)}$ after our expression."
   ]
  },
  {
   "cell_type": "code",
   "execution_count": 37,
   "metadata": {},
   "outputs": [
    {
     "data": {
      "text/plain": [
       "15*x^2 + 2"
      ]
     },
     "execution_count": 37,
     "metadata": {},
     "output_type": "execute_result"
    }
   ],
   "source": [
    "DiffQuot(h=0)"
   ]
  },
  {
   "cell_type": "markdown",
   "metadata": {
    "deletable": false,
    "editable": false
   },
   "source": [
    "## Example 5\n",
    "\n",
    "Repeat Example 4 using the function $f(x) = \\dfrac{1}{(x+1)^2}$."
   ]
  },
  {
   "cell_type": "code",
   "execution_count": 45,
   "metadata": {},
   "outputs": [],
   "source": [
    "def f(x):\n",
    "    return 1/(x+1)^2"
   ]
  },
  {
   "cell_type": "code",
   "execution_count": 46,
   "metadata": {},
   "outputs": [],
   "source": [
    "h = var('h')"
   ]
  },
  {
   "cell_type": "code",
   "execution_count": 47,
   "metadata": {},
   "outputs": [
    {
     "data": {
      "text/plain": [
       "(1/(h + x + 1)^2 - 1/(x + 1)^2)/h"
      ]
     },
     "execution_count": 47,
     "metadata": {},
     "output_type": "execute_result"
    }
   ],
   "source": [
    "DiffQuot = (f(x+h)-f(x))/h\n",
    "DiffQuot"
   ]
  },
  {
   "cell_type": "code",
   "execution_count": 49,
   "metadata": {},
   "outputs": [
    {
     "data": {
      "text/plain": [
       "-(h + 2*x + 2)/(2*(h + 2)*x^3 + x^4 + (h^2 + 6*h + 6)*x^2 + h^2 + 2*(h^2 + 3*h + 2)*x + 2*h + 1)"
      ]
     },
     "execution_count": 49,
     "metadata": {},
     "output_type": "execute_result"
    }
   ],
   "source": [
    "DiffQuot = DiffQuot.full_simplify()\n",
    "DiffQuot"
   ]
  },
  {
   "cell_type": "code",
   "execution_count": 50,
   "metadata": {},
   "outputs": [
    {
     "data": {
      "text/plain": [
       "-2*(x + 1)/(x^4 + 4*x^3 + 6*x^2 + 4*x + 1)"
      ]
     },
     "execution_count": 50,
     "metadata": {},
     "output_type": "execute_result"
    }
   ],
   "source": [
    "DiffQuot(h=0)"
   ]
  },
  {
   "cell_type": "markdown",
   "metadata": {
    "deletable": false,
    "editable": false
   },
   "source": [
    "## Example 6\n",
    "\n",
    "Find and fully simplify $f(g(x))$, $g(f(x))$, $f(g(f(x)))$ and $g(f(x) + g(x))$ for the following choices of $f(x)$ and $g(x)$.\n",
    "1. $f(x) = \\sqrt{2x + 3}$ and $g(x) = x^2 + 1$"
   ]
  },
  {
   "cell_type": "code",
   "execution_count": null,
   "metadata": {},
   "outputs": [],
   "source": []
  },
  {
   "cell_type": "code",
   "execution_count": null,
   "metadata": {},
   "outputs": [],
   "source": []
  },
  {
   "cell_type": "code",
   "execution_count": null,
   "metadata": {},
   "outputs": [],
   "source": []
  },
  {
   "cell_type": "code",
   "execution_count": null,
   "metadata": {},
   "outputs": [],
   "source": []
  },
  {
   "cell_type": "code",
   "execution_count": null,
   "metadata": {},
   "outputs": [],
   "source": []
  },
  {
   "cell_type": "markdown",
   "metadata": {
    "deletable": false,
    "editable": false
   },
   "source": [
    "2. $f(x) = \\dfrac{x+1}{x-1}$ and $g(x) = \\dfrac{x}{1-x}$"
   ]
  },
  {
   "cell_type": "code",
   "execution_count": null,
   "metadata": {},
   "outputs": [],
   "source": []
  },
  {
   "cell_type": "code",
   "execution_count": null,
   "metadata": {},
   "outputs": [],
   "source": []
  },
  {
   "cell_type": "code",
   "execution_count": null,
   "metadata": {},
   "outputs": [],
   "source": []
  },
  {
   "cell_type": "code",
   "execution_count": null,
   "metadata": {},
   "outputs": [],
   "source": []
  },
  {
   "cell_type": "code",
   "execution_count": null,
   "metadata": {},
   "outputs": [],
   "source": []
  },
  {
   "cell_type": "markdown",
   "metadata": {
    "deletable": false,
    "editable": false
   },
   "source": [
    "## Example 7\n",
    "\n",
    "Let $F(x) = (\\sin(x^2)+1)^3$. Note that we can decompose $F(x)$ into the composition of the three functions $f(x) = x^3$, $g(x) = \\sin(x) + 1$, and $h(x) = x^2$, where $F(x) = f(g(h(x))).$"
   ]
  },
  {
   "cell_type": "code",
   "execution_count": 40,
   "metadata": {},
   "outputs": [
    {
     "data": {
      "text/plain": [
       "(sin(x^2) + 1)^3"
      ]
     },
     "execution_count": 40,
     "metadata": {},
     "output_type": "execute_result"
    }
   ],
   "source": [
    "def f(x):\n",
    "    return x^3\n",
    "def g(x):\n",
    "    return sin(x) + 1\n",
    "def h(x):\n",
    "    return x^2\n",
    "f(g(h(x)))"
   ]
  },
  {
   "cell_type": "markdown",
   "metadata": {
    "deletable": false,
    "editable": false
   },
   "source": [
    "## Example 8\n",
    "\n",
    "Repeat Example 7 with the following with the following choices for $F(x)$, that is, find $f(x)$, $g(x)$, and $h(x)$ such that $F(x) = f(g(h(x))).$ Be sure to check your composition.\n",
    "1. $F(x) = 2 + \\sqrt{1 - x^{1/3}}$"
   ]
  },
  {
   "cell_type": "code",
   "execution_count": 41,
   "metadata": {},
   "outputs": [
    {
     "data": {
      "text/plain": [
       "sqrt(-x^(1/3) + 1) + 2"
      ]
     },
     "execution_count": 41,
     "metadata": {},
     "output_type": "execute_result"
    }
   ],
   "source": [
    "def f(x):\n",
    "    return 2+sqrt(x)\n",
    "def g(x):\n",
    "    return 1-x\n",
    "def h(x):\n",
    "    return x^(1/3)\n",
    "f(g(h(x)))"
   ]
  },
  {
   "cell_type": "markdown",
   "metadata": {
    "deletable": false,
    "editable": false
   },
   "source": [
    "2. $F(x) = \\sin(\\sqrt{x + 5})^2 + 1$"
   ]
  },
  {
   "cell_type": "code",
   "execution_count": 43,
   "metadata": {},
   "outputs": [
    {
     "data": {
      "text/plain": [
       "sin(sqrt(x + 5))^2 + 1"
      ]
     },
     "execution_count": 43,
     "metadata": {},
     "output_type": "execute_result"
    }
   ],
   "source": [
    "def f(x):\n",
    "    return (sin(x))^2+1\n",
    "def g(x):\n",
    "    return sqrt(x)\n",
    "def h(x):\n",
    "    return x+5\n",
    "f(g(h(x)))"
   ]
  }
 ],
 "metadata": {
  "kernelspec": {
   "display_name": "SageMath 9.1",
   "language": "sage",
   "name": "sagemath"
  },
  "language_info": {
   "codemirror_mode": {
    "name": "ipython",
    "version": 3
   },
   "file_extension": ".py",
   "mimetype": "text/x-python",
   "name": "python",
   "nbconvert_exporter": "python",
   "pygments_lexer": "ipython3",
   "version": "3.7.3"
  }
 },
 "nbformat": 4,
 "nbformat_minor": 2
}
